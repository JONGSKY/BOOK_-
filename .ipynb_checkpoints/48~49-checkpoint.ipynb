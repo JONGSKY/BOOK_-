{
 "cells": [
  {
   "cell_type": "markdown",
   "metadata": {},
   "source": [
    "# 3장 프로그래밍 언어 (48~49)"
   ]
  },
  {
   "cell_type": "markdown",
   "metadata": {},
   "source": [
    "### 전체 직원을 하나씩 불러와서 월급을 5%씩 올리고 직원 주소를 갱신한 뒤 그 정보 출력하기"
   ]
  },
  {
   "cell_type": "code",
   "execution_count": 7,
   "metadata": {},
   "outputs": [],
   "source": [
    "SALARY_RAISE_FACTOR = 0.05\n",
    "STATE_CODE_MAP = {'WA':'Washington','TX':'Texas'}"
   ]
  },
  {
   "cell_type": "code",
   "execution_count": 8,
   "metadata": {},
   "outputs": [],
   "source": [
    "def update_employee_record(rec):\n",
    "    old_sal = rec['salary']\n",
    "    new_sal = old_sal*(1+SALARY_RAISE_FACTOR)\n",
    "    rec['salary']=new_sal\n",
    "    state_code = rec['state_code']\n",
    "    rec['state_name']=STATE_CODE_MAP[state_code]"
   ]
  },
  {
   "cell_type": "code",
   "execution_count": 9,
   "metadata": {},
   "outputs": [],
   "source": [
    "input_data = [\n",
    "    {'employee_name':'Susan', 'salary':100000.0, 'state_code':'WA'},\n",
    "    {'employee_name':'Ellen', 'salary':75000.0, 'state_code':'TX'}    \n",
    "]"
   ]
  },
  {
   "cell_type": "code",
   "execution_count": 10,
   "metadata": {},
   "outputs": [
    {
     "name": "stdout",
     "output_type": "stream",
     "text": [
      "Susan now lives in Washington\n",
      "    and makes $105000.0\n",
      "Ellen now lives in Texas\n",
      "    and makes $78750.0\n"
     ]
    }
   ],
   "source": [
    "for rec in input_data:\n",
    "    update_employee_record(rec)\n",
    "    name =rec['employee_name']\n",
    "    salary=rec['salary']\n",
    "    state = rec['state_name']\n",
    "    print(name+' now lives in ' + state)\n",
    "    print('    and makes $' + str(salary))"
   ]
  },
  {
   "cell_type": "code",
   "execution_count": null,
   "metadata": {},
   "outputs": [],
   "source": []
  }
 ],
 "metadata": {
  "kernelspec": {
   "display_name": "inflearn",
   "language": "python",
   "name": "inflearn"
  },
  "language_info": {
   "codemirror_mode": {
    "name": "ipython",
    "version": 3
   },
   "file_extension": ".py",
   "mimetype": "text/x-python",
   "name": "python",
   "nbconvert_exporter": "python",
   "pygments_lexer": "ipython3",
   "version": "3.7.1"
  }
 },
 "nbformat": 4,
 "nbformat_minor": 2
}
